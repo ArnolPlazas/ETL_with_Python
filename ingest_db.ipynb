{
 "cells": [
  {
   "cell_type": "code",
   "execution_count": 3,
   "metadata": {},
   "outputs": [],
   "source": [
    "import sqlite3"
   ]
  },
  {
   "cell_type": "code",
   "execution_count": null,
   "metadata": {},
   "outputs": [],
   "source": [
    "# Connect to (or create) the SQLite database\n",
    "conn = sqlite3.connect(\"data/users.db\")\n",
    "cursor = conn.cursor()"
   ]
  },
  {
   "cell_type": "code",
   "execution_count": 3,
   "metadata": {},
   "outputs": [
    {
     "data": {
      "text/plain": [
       "<sqlite3.Cursor at 0x7f0fd37874c0>"
      ]
     },
     "execution_count": 3,
     "metadata": {},
     "output_type": "execute_result"
    }
   ],
   "source": [
    "# Create the users table\n",
    "cursor.execute(\"\"\"\n",
    "CREATE TABLE IF NOT EXISTS users (\n",
    "    id INTEGER PRIMARY KEY AUTOINCREMENT,\n",
    "    name TEXT NOT NULL,\n",
    "    email TEXT UNIQUE NOT NULL,\n",
    "    age INTEGER NOT NULL\n",
    ")\n",
    "\"\"\")"
   ]
  },
  {
   "cell_type": "code",
   "execution_count": 4,
   "metadata": {},
   "outputs": [],
   "source": [
    "# Sample user data\n",
    "users_data = [\n",
    "    (\"Alice Johnson\", \"alice@example.com\", 28),\n",
    "    (\"Bob Smith\", \"bob@example.com\", 34),\n",
    "    (\"Charlie Brown\", \"charlie@example.com\", 25),\n",
    "    (\"Diana Ross\", \"diana@example.com\", 40)\n",
    "]"
   ]
  },
  {
   "cell_type": "code",
   "execution_count": 5,
   "metadata": {},
   "outputs": [
    {
     "data": {
      "text/plain": [
       "<sqlite3.Cursor at 0x7f0fd37874c0>"
      ]
     },
     "execution_count": 5,
     "metadata": {},
     "output_type": "execute_result"
    }
   ],
   "source": [
    "# Insert users into the table\n",
    "cursor.executemany(\"INSERT INTO users (name, email, age) VALUES (?, ?, ?)\", users_data)"
   ]
  },
  {
   "cell_type": "code",
   "execution_count": 6,
   "metadata": {},
   "outputs": [],
   "source": [
    "# Commit changes and close the connection\n",
    "conn.commit()"
   ]
  },
  {
   "cell_type": "code",
   "execution_count": 7,
   "metadata": {},
   "outputs": [
    {
     "name": "stdout",
     "output_type": "stream",
     "text": [
      "Users in the database:\n",
      "(1, 'Alice Johnson', 'alice@example.com', 28)\n",
      "(2, 'Bob Smith', 'bob@example.com', 34)\n",
      "(3, 'Charlie Brown', 'charlie@example.com', 25)\n",
      "(4, 'Diana Ross', 'diana@example.com', 40)\n"
     ]
    }
   ],
   "source": [
    "# Fetch and display the inserted users\n",
    "cursor.execute(\"SELECT * FROM users\")\n",
    "users = cursor.fetchall()\n",
    "\n",
    "print(\"Users in the database:\")\n",
    "for user in users:\n",
    "    print(user)\n",
    "\n",
    "conn.close()"
   ]
  },
  {
   "cell_type": "markdown",
   "metadata": {},
   "source": [
    "# sqlalchemy"
   ]
  },
  {
   "cell_type": "code",
   "execution_count": 11,
   "metadata": {},
   "outputs": [],
   "source": [
    "from sqlalchemy import create_engine, text"
   ]
  },
  {
   "cell_type": "code",
   "execution_count": 12,
   "metadata": {},
   "outputs": [
    {
     "name": "stdout",
     "output_type": "stream",
     "text": [
      "(1, 'Alice Johnson', 'alice@example.com', 28)\n",
      "(2, 'Bob Smith', 'bob@example.com', 34)\n",
      "(3, 'Charlie Brown', 'charlie@example.com', 25)\n",
      "(4, 'Diana Ross', 'diana@example.com', 40)\n"
     ]
    }
   ],
   "source": [
    "engine = create_engine(\"sqlite:///users.db\")\n",
    "connection = engine.connect()\n",
    "\n",
    "result = connection.execute(text(\"SELECT * FROM users\"))\n",
    "\n",
    "# Fetch and print results\n",
    "for row in result:\n",
    "    print(row)\n",
    "\n",
    "# Close the connection\n",
    "connection.close()"
   ]
  },
  {
   "cell_type": "markdown",
   "metadata": {},
   "source": [
    "# Pandas"
   ]
  },
  {
   "cell_type": "code",
   "execution_count": 6,
   "metadata": {},
   "outputs": [],
   "source": [
    "import pandas as pd"
   ]
  },
  {
   "cell_type": "code",
   "execution_count": null,
   "metadata": {},
   "outputs": [
    {
     "data": {
      "application/vnd.microsoft.datawrangler.viewer.v0+json": {
       "columns": [
        {
         "name": "index",
         "rawType": "int64",
         "type": "integer"
        },
        {
         "name": "id",
         "rawType": "int64",
         "type": "integer"
        },
        {
         "name": "name",
         "rawType": "object",
         "type": "string"
        },
        {
         "name": "email",
         "rawType": "object",
         "type": "string"
        },
        {
         "name": "age",
         "rawType": "int64",
         "type": "integer"
        }
       ],
       "conversionMethod": "pd.DataFrame",
       "ref": "88c62e19-7dfe-4c43-a1fa-ee25f24ef274",
       "rows": [
        [
         "0",
         "1",
         "Alice Johnson",
         "alice@example.com",
         "28"
        ],
        [
         "1",
         "2",
         "Bob Smith",
         "bob@example.com",
         "34"
        ],
        [
         "2",
         "3",
         "Charlie Brown",
         "charlie@example.com",
         "25"
        ],
        [
         "3",
         "4",
         "Diana Ross",
         "diana@example.com",
         "40"
        ]
       ],
       "shape": {
        "columns": 4,
        "rows": 4
       }
      },
      "text/html": [
       "<div>\n",
       "<style scoped>\n",
       "    .dataframe tbody tr th:only-of-type {\n",
       "        vertical-align: middle;\n",
       "    }\n",
       "\n",
       "    .dataframe tbody tr th {\n",
       "        vertical-align: top;\n",
       "    }\n",
       "\n",
       "    .dataframe thead th {\n",
       "        text-align: right;\n",
       "    }\n",
       "</style>\n",
       "<table border=\"1\" class=\"dataframe\">\n",
       "  <thead>\n",
       "    <tr style=\"text-align: right;\">\n",
       "      <th></th>\n",
       "      <th>id</th>\n",
       "      <th>name</th>\n",
       "      <th>email</th>\n",
       "      <th>age</th>\n",
       "    </tr>\n",
       "  </thead>\n",
       "  <tbody>\n",
       "    <tr>\n",
       "      <th>0</th>\n",
       "      <td>1</td>\n",
       "      <td>Alice Johnson</td>\n",
       "      <td>alice@example.com</td>\n",
       "      <td>28</td>\n",
       "    </tr>\n",
       "    <tr>\n",
       "      <th>1</th>\n",
       "      <td>2</td>\n",
       "      <td>Bob Smith</td>\n",
       "      <td>bob@example.com</td>\n",
       "      <td>34</td>\n",
       "    </tr>\n",
       "    <tr>\n",
       "      <th>2</th>\n",
       "      <td>3</td>\n",
       "      <td>Charlie Brown</td>\n",
       "      <td>charlie@example.com</td>\n",
       "      <td>25</td>\n",
       "    </tr>\n",
       "    <tr>\n",
       "      <th>3</th>\n",
       "      <td>4</td>\n",
       "      <td>Diana Ross</td>\n",
       "      <td>diana@example.com</td>\n",
       "      <td>40</td>\n",
       "    </tr>\n",
       "  </tbody>\n",
       "</table>\n",
       "</div>"
      ],
      "text/plain": [
       "   id           name                email  age\n",
       "0   1  Alice Johnson    alice@example.com   28\n",
       "1   2      Bob Smith      bob@example.com   34\n",
       "2   3  Charlie Brown  charlie@example.com   25\n",
       "3   4     Diana Ross    diana@example.com   40"
      ]
     },
     "execution_count": 16,
     "metadata": {},
     "output_type": "execute_result"
    }
   ],
   "source": [
    "# use engine \n",
    "df = pd.read_sql_query(\"SELECT * FROM users\", engine)\n",
    "df.head()"
   ]
  },
  {
   "cell_type": "markdown",
   "metadata": {},
   "source": [
    "# Excercise"
   ]
  },
  {
   "cell_type": "markdown",
   "metadata": {},
   "source": [
    "## sqlite"
   ]
  },
  {
   "cell_type": "code",
   "execution_count": 1,
   "metadata": {},
   "outputs": [],
   "source": [
    "#QUERY\n",
    "sql = \"SELECT name from sqlite_master where type = 'table'\""
   ]
  },
  {
   "cell_type": "code",
   "execution_count": null,
   "metadata": {},
   "outputs": [],
   "source": [
    "#Conexion\n",
    "conn = sqlite3.connect(\"data/nba_salary.sqlite\")"
   ]
  },
  {
   "cell_type": "code",
   "execution_count": 12,
   "metadata": {},
   "outputs": [
    {
     "data": {
      "application/vnd.microsoft.datawrangler.viewer.v0+json": {
       "columns": [
        {
         "name": "index",
         "rawType": "int64",
         "type": "integer"
        },
        {
         "name": "name",
         "rawType": "object",
         "type": "string"
        }
       ],
       "conversionMethod": "pd.DataFrame",
       "ref": "075d47d0-fdbe-4211-a80f-946438831991",
       "rows": [
        [
         "0",
         "NBA_season1718_salary"
        ],
        [
         "1",
         "Seasons_Stats"
        ]
       ],
       "shape": {
        "columns": 1,
        "rows": 2
       }
      },
      "text/html": [
       "<div>\n",
       "<style scoped>\n",
       "    .dataframe tbody tr th:only-of-type {\n",
       "        vertical-align: middle;\n",
       "    }\n",
       "\n",
       "    .dataframe tbody tr th {\n",
       "        vertical-align: top;\n",
       "    }\n",
       "\n",
       "    .dataframe thead th {\n",
       "        text-align: right;\n",
       "    }\n",
       "</style>\n",
       "<table border=\"1\" class=\"dataframe\">\n",
       "  <thead>\n",
       "    <tr style=\"text-align: right;\">\n",
       "      <th></th>\n",
       "      <th>name</th>\n",
       "    </tr>\n",
       "  </thead>\n",
       "  <tbody>\n",
       "    <tr>\n",
       "      <th>0</th>\n",
       "      <td>NBA_season1718_salary</td>\n",
       "    </tr>\n",
       "    <tr>\n",
       "      <th>1</th>\n",
       "      <td>Seasons_Stats</td>\n",
       "    </tr>\n",
       "  </tbody>\n",
       "</table>\n",
       "</div>"
      ],
      "text/plain": [
       "                    name\n",
       "0  NBA_season1718_salary\n",
       "1          Seasons_Stats"
      ]
     },
     "execution_count": 12,
     "metadata": {},
     "output_type": "execute_result"
    }
   ],
   "source": [
    "#Creamos el df\n",
    "df = pd.read_sql_query(sql,conn)\n",
    "df.head()"
   ]
  },
  {
   "cell_type": "code",
   "execution_count": 14,
   "metadata": {},
   "outputs": [
    {
     "data": {
      "application/vnd.microsoft.datawrangler.viewer.v0+json": {
       "columns": [
        {
         "name": "index",
         "rawType": "int64",
         "type": "integer"
        },
        {
         "name": "X1",
         "rawType": "float64",
         "type": "float"
        },
        {
         "name": "Player",
         "rawType": "object",
         "type": "string"
        },
        {
         "name": "Tm",
         "rawType": "object",
         "type": "string"
        },
        {
         "name": "season17_18",
         "rawType": "float64",
         "type": "float"
        }
       ],
       "conversionMethod": "pd.DataFrame",
       "ref": "7b2f3ca5-92a0-4a70-aa87-bc58b5d28005",
       "rows": [
        [
         "0",
         "1.0",
         "Stephen Curry",
         "GSW",
         "34682550.0"
        ],
        [
         "1",
         "2.0",
         "LeBron James",
         "CLE",
         "33285709.0"
        ],
        [
         "2",
         "3.0",
         "Paul Millsap",
         "DEN",
         "31269231.0"
        ],
        [
         "3",
         "4.0",
         "Gordon Hayward",
         "BOS",
         "29727900.0"
        ],
        [
         "4",
         "5.0",
         "Blake Griffin",
         "DET",
         "29512900.0"
        ]
       ],
       "shape": {
        "columns": 4,
        "rows": 5
       }
      },
      "text/html": [
       "<div>\n",
       "<style scoped>\n",
       "    .dataframe tbody tr th:only-of-type {\n",
       "        vertical-align: middle;\n",
       "    }\n",
       "\n",
       "    .dataframe tbody tr th {\n",
       "        vertical-align: top;\n",
       "    }\n",
       "\n",
       "    .dataframe thead th {\n",
       "        text-align: right;\n",
       "    }\n",
       "</style>\n",
       "<table border=\"1\" class=\"dataframe\">\n",
       "  <thead>\n",
       "    <tr style=\"text-align: right;\">\n",
       "      <th></th>\n",
       "      <th>X1</th>\n",
       "      <th>Player</th>\n",
       "      <th>Tm</th>\n",
       "      <th>season17_18</th>\n",
       "    </tr>\n",
       "  </thead>\n",
       "  <tbody>\n",
       "    <tr>\n",
       "      <th>0</th>\n",
       "      <td>1.0</td>\n",
       "      <td>Stephen Curry</td>\n",
       "      <td>GSW</td>\n",
       "      <td>34682550.0</td>\n",
       "    </tr>\n",
       "    <tr>\n",
       "      <th>1</th>\n",
       "      <td>2.0</td>\n",
       "      <td>LeBron James</td>\n",
       "      <td>CLE</td>\n",
       "      <td>33285709.0</td>\n",
       "    </tr>\n",
       "    <tr>\n",
       "      <th>2</th>\n",
       "      <td>3.0</td>\n",
       "      <td>Paul Millsap</td>\n",
       "      <td>DEN</td>\n",
       "      <td>31269231.0</td>\n",
       "    </tr>\n",
       "    <tr>\n",
       "      <th>3</th>\n",
       "      <td>4.0</td>\n",
       "      <td>Gordon Hayward</td>\n",
       "      <td>BOS</td>\n",
       "      <td>29727900.0</td>\n",
       "    </tr>\n",
       "    <tr>\n",
       "      <th>4</th>\n",
       "      <td>5.0</td>\n",
       "      <td>Blake Griffin</td>\n",
       "      <td>DET</td>\n",
       "      <td>29512900.0</td>\n",
       "    </tr>\n",
       "  </tbody>\n",
       "</table>\n",
       "</div>"
      ],
      "text/plain": [
       "    X1          Player   Tm  season17_18\n",
       "0  1.0   Stephen Curry  GSW   34682550.0\n",
       "1  2.0    LeBron James  CLE   33285709.0\n",
       "2  3.0    Paul Millsap  DEN   31269231.0\n",
       "3  4.0  Gordon Hayward  BOS   29727900.0\n",
       "4  5.0   Blake Griffin  DET   29512900.0"
      ]
     },
     "execution_count": 14,
     "metadata": {},
     "output_type": "execute_result"
    }
   ],
   "source": [
    "df_nba = pd.read_sql_query(\"SELECT * from NBA_season1718_salary\",conn)\n",
    "df_nba.head()"
   ]
  },
  {
   "cell_type": "code",
   "execution_count": 15,
   "metadata": {},
   "outputs": [],
   "source": [
    "conn.close()"
   ]
  },
  {
   "cell_type": "markdown",
   "metadata": {},
   "source": [
    "## sqlalchemy"
   ]
  },
  {
   "cell_type": "code",
   "execution_count": 9,
   "metadata": {},
   "outputs": [],
   "source": [
    "import sqlalchemy as db"
   ]
  },
  {
   "cell_type": "code",
   "execution_count": 16,
   "metadata": {},
   "outputs": [],
   "source": [
    "#Conexion\n",
    "engine = db.create_engine('sqlite:///nba_salary.sqlite')\n",
    "connection = engine.connect()"
   ]
  },
  {
   "cell_type": "code",
   "execution_count": 17,
   "metadata": {},
   "outputs": [
    {
     "data": {
      "application/vnd.microsoft.datawrangler.viewer.v0+json": {
       "columns": [
        {
         "name": "index",
         "rawType": "int64",
         "type": "integer"
        },
        {
         "name": "X1",
         "rawType": "float64",
         "type": "float"
        },
        {
         "name": "Year",
         "rawType": "float64",
         "type": "float"
        },
        {
         "name": "Player",
         "rawType": "object",
         "type": "string"
        },
        {
         "name": "Pos",
         "rawType": "object",
         "type": "string"
        },
        {
         "name": "Age",
         "rawType": "float64",
         "type": "float"
        },
        {
         "name": "Tm",
         "rawType": "object",
         "type": "string"
        },
        {
         "name": "G",
         "rawType": "float64",
         "type": "float"
        },
        {
         "name": "GS",
         "rawType": "float64",
         "type": "float"
        },
        {
         "name": "MP",
         "rawType": "float64",
         "type": "float"
        },
        {
         "name": "PER",
         "rawType": "float64",
         "type": "float"
        },
        {
         "name": "TS%",
         "rawType": "float64",
         "type": "float"
        },
        {
         "name": "3PAr",
         "rawType": "float64",
         "type": "float"
        },
        {
         "name": "FTr",
         "rawType": "float64",
         "type": "float"
        },
        {
         "name": "ORB%",
         "rawType": "float64",
         "type": "float"
        },
        {
         "name": "DRB%",
         "rawType": "float64",
         "type": "float"
        },
        {
         "name": "TRB%",
         "rawType": "float64",
         "type": "float"
        },
        {
         "name": "AST%",
         "rawType": "float64",
         "type": "float"
        },
        {
         "name": "STL%",
         "rawType": "float64",
         "type": "float"
        },
        {
         "name": "BLK%",
         "rawType": "float64",
         "type": "float"
        },
        {
         "name": "TOV%",
         "rawType": "float64",
         "type": "float"
        },
        {
         "name": "USG%",
         "rawType": "float64",
         "type": "float"
        },
        {
         "name": "blanl",
         "rawType": "object",
         "type": "unknown"
        },
        {
         "name": "OWS",
         "rawType": "float64",
         "type": "float"
        },
        {
         "name": "DWS",
         "rawType": "float64",
         "type": "float"
        },
        {
         "name": "WS",
         "rawType": "float64",
         "type": "float"
        },
        {
         "name": "WS/48",
         "rawType": "float64",
         "type": "float"
        },
        {
         "name": "blank2",
         "rawType": "object",
         "type": "unknown"
        },
        {
         "name": "OBPM",
         "rawType": "float64",
         "type": "float"
        },
        {
         "name": "DBPM",
         "rawType": "float64",
         "type": "float"
        },
        {
         "name": "BPM",
         "rawType": "float64",
         "type": "float"
        },
        {
         "name": "VORP",
         "rawType": "float64",
         "type": "float"
        },
        {
         "name": "FG",
         "rawType": "float64",
         "type": "float"
        },
        {
         "name": "FGA",
         "rawType": "float64",
         "type": "float"
        },
        {
         "name": "FG%",
         "rawType": "float64",
         "type": "float"
        },
        {
         "name": "3P",
         "rawType": "float64",
         "type": "float"
        },
        {
         "name": "3PA",
         "rawType": "float64",
         "type": "float"
        },
        {
         "name": "3P%",
         "rawType": "float64",
         "type": "float"
        },
        {
         "name": "2P",
         "rawType": "float64",
         "type": "float"
        },
        {
         "name": "2PA",
         "rawType": "float64",
         "type": "float"
        },
        {
         "name": "2P%",
         "rawType": "float64",
         "type": "float"
        },
        {
         "name": "eFG%",
         "rawType": "float64",
         "type": "float"
        },
        {
         "name": "FT",
         "rawType": "float64",
         "type": "float"
        },
        {
         "name": "FTA",
         "rawType": "float64",
         "type": "float"
        },
        {
         "name": "FT%",
         "rawType": "float64",
         "type": "float"
        },
        {
         "name": "ORB",
         "rawType": "float64",
         "type": "float"
        },
        {
         "name": "DRB",
         "rawType": "float64",
         "type": "float"
        },
        {
         "name": "TRB",
         "rawType": "float64",
         "type": "float"
        },
        {
         "name": "AST",
         "rawType": "float64",
         "type": "float"
        },
        {
         "name": "STL",
         "rawType": "float64",
         "type": "float"
        },
        {
         "name": "BLK",
         "rawType": "float64",
         "type": "float"
        },
        {
         "name": "TOV",
         "rawType": "float64",
         "type": "float"
        },
        {
         "name": "PF",
         "rawType": "float64",
         "type": "float"
        },
        {
         "name": "PTS",
         "rawType": "float64",
         "type": "float"
        }
       ],
       "conversionMethod": "pd.DataFrame",
       "ref": "1d17aad1-7bd5-4337-b380-3a8c694bb6c2",
       "rows": [
        [
         "0",
         "0.0",
         "1950.0",
         "Curly Armstrong",
         "G-F",
         "31.0",
         "FTW",
         "63.0",
         null,
         null,
         null,
         "0.368",
         null,
         "0.467",
         null,
         null,
         null,
         null,
         null,
         null,
         null,
         null,
         null,
         "-0.1",
         "3.6",
         "3.5",
         null,
         null,
         null,
         null,
         null,
         null,
         "144.0",
         "516.0",
         "0.279",
         null,
         null,
         null,
         "144.0",
         "516.0",
         "0.279",
         "0.279",
         "170.0",
         "241.0",
         "0.705",
         null,
         null,
         null,
         "176.0",
         null,
         null,
         null,
         "217.0",
         "458.0"
        ],
        [
         "1",
         "1.0",
         "1950.0",
         "Cliff Barker",
         "SG",
         "29.0",
         "INO",
         "49.0",
         null,
         null,
         null,
         "0.435",
         null,
         "0.387",
         null,
         null,
         null,
         null,
         null,
         null,
         null,
         null,
         null,
         "1.6",
         "0.6",
         "2.2",
         null,
         null,
         null,
         null,
         null,
         null,
         "102.0",
         "274.0",
         "0.372",
         null,
         null,
         null,
         "102.0",
         "274.0",
         "0.372",
         "0.372",
         "75.0",
         "106.0",
         "0.708",
         null,
         null,
         null,
         "109.0",
         null,
         null,
         null,
         "99.0",
         "279.0"
        ],
        [
         "2",
         "2.0",
         "1950.0",
         "Leo Barnhorst",
         "SF",
         "25.0",
         "CHS",
         "67.0",
         null,
         null,
         null,
         "0.394",
         null,
         "0.259",
         null,
         null,
         null,
         null,
         null,
         null,
         null,
         null,
         null,
         "0.9",
         "2.8",
         "3.6",
         null,
         null,
         null,
         null,
         null,
         null,
         "174.0",
         "499.0",
         "0.349",
         null,
         null,
         null,
         "174.0",
         "499.0",
         "0.349",
         "0.349",
         "90.0",
         "129.0",
         "0.698",
         null,
         null,
         null,
         "140.0",
         null,
         null,
         null,
         "192.0",
         "438.0"
        ],
        [
         "3",
         "3.0",
         "1950.0",
         "Ed Bartels",
         "F",
         "24.0",
         "TOT",
         "15.0",
         null,
         null,
         null,
         "0.312",
         null,
         "0.395",
         null,
         null,
         null,
         null,
         null,
         null,
         null,
         null,
         null,
         "-0.5",
         "-0.1",
         "-0.6",
         null,
         null,
         null,
         null,
         null,
         null,
         "22.0",
         "86.0",
         "0.256",
         null,
         null,
         null,
         "22.0",
         "86.0",
         "0.256",
         "0.256",
         "19.0",
         "34.0",
         "0.559",
         null,
         null,
         null,
         "20.0",
         null,
         null,
         null,
         "29.0",
         "63.0"
        ],
        [
         "4",
         "4.0",
         "1950.0",
         "Ed Bartels",
         "F",
         "24.0",
         "DNN",
         "13.0",
         null,
         null,
         null,
         "0.308",
         null,
         "0.378",
         null,
         null,
         null,
         null,
         null,
         null,
         null,
         null,
         null,
         "-0.5",
         "-0.1",
         "-0.6",
         null,
         null,
         null,
         null,
         null,
         null,
         "21.0",
         "82.0",
         "0.256",
         null,
         null,
         null,
         "21.0",
         "82.0",
         "0.256",
         "0.256",
         "17.0",
         "31.0",
         "0.548",
         null,
         null,
         null,
         "20.0",
         null,
         null,
         null,
         "27.0",
         "59.0"
        ]
       ],
       "shape": {
        "columns": 53,
        "rows": 5
       }
      },
      "text/html": [
       "<div>\n",
       "<style scoped>\n",
       "    .dataframe tbody tr th:only-of-type {\n",
       "        vertical-align: middle;\n",
       "    }\n",
       "\n",
       "    .dataframe tbody tr th {\n",
       "        vertical-align: top;\n",
       "    }\n",
       "\n",
       "    .dataframe thead th {\n",
       "        text-align: right;\n",
       "    }\n",
       "</style>\n",
       "<table border=\"1\" class=\"dataframe\">\n",
       "  <thead>\n",
       "    <tr style=\"text-align: right;\">\n",
       "      <th></th>\n",
       "      <th>X1</th>\n",
       "      <th>Year</th>\n",
       "      <th>Player</th>\n",
       "      <th>Pos</th>\n",
       "      <th>Age</th>\n",
       "      <th>Tm</th>\n",
       "      <th>G</th>\n",
       "      <th>GS</th>\n",
       "      <th>MP</th>\n",
       "      <th>PER</th>\n",
       "      <th>...</th>\n",
       "      <th>FT%</th>\n",
       "      <th>ORB</th>\n",
       "      <th>DRB</th>\n",
       "      <th>TRB</th>\n",
       "      <th>AST</th>\n",
       "      <th>STL</th>\n",
       "      <th>BLK</th>\n",
       "      <th>TOV</th>\n",
       "      <th>PF</th>\n",
       "      <th>PTS</th>\n",
       "    </tr>\n",
       "  </thead>\n",
       "  <tbody>\n",
       "    <tr>\n",
       "      <th>0</th>\n",
       "      <td>0.0</td>\n",
       "      <td>1950.0</td>\n",
       "      <td>Curly Armstrong</td>\n",
       "      <td>G-F</td>\n",
       "      <td>31.0</td>\n",
       "      <td>FTW</td>\n",
       "      <td>63.0</td>\n",
       "      <td>NaN</td>\n",
       "      <td>NaN</td>\n",
       "      <td>NaN</td>\n",
       "      <td>...</td>\n",
       "      <td>0.705</td>\n",
       "      <td>NaN</td>\n",
       "      <td>NaN</td>\n",
       "      <td>NaN</td>\n",
       "      <td>176.0</td>\n",
       "      <td>NaN</td>\n",
       "      <td>NaN</td>\n",
       "      <td>NaN</td>\n",
       "      <td>217.0</td>\n",
       "      <td>458.0</td>\n",
       "    </tr>\n",
       "    <tr>\n",
       "      <th>1</th>\n",
       "      <td>1.0</td>\n",
       "      <td>1950.0</td>\n",
       "      <td>Cliff Barker</td>\n",
       "      <td>SG</td>\n",
       "      <td>29.0</td>\n",
       "      <td>INO</td>\n",
       "      <td>49.0</td>\n",
       "      <td>NaN</td>\n",
       "      <td>NaN</td>\n",
       "      <td>NaN</td>\n",
       "      <td>...</td>\n",
       "      <td>0.708</td>\n",
       "      <td>NaN</td>\n",
       "      <td>NaN</td>\n",
       "      <td>NaN</td>\n",
       "      <td>109.0</td>\n",
       "      <td>NaN</td>\n",
       "      <td>NaN</td>\n",
       "      <td>NaN</td>\n",
       "      <td>99.0</td>\n",
       "      <td>279.0</td>\n",
       "    </tr>\n",
       "    <tr>\n",
       "      <th>2</th>\n",
       "      <td>2.0</td>\n",
       "      <td>1950.0</td>\n",
       "      <td>Leo Barnhorst</td>\n",
       "      <td>SF</td>\n",
       "      <td>25.0</td>\n",
       "      <td>CHS</td>\n",
       "      <td>67.0</td>\n",
       "      <td>NaN</td>\n",
       "      <td>NaN</td>\n",
       "      <td>NaN</td>\n",
       "      <td>...</td>\n",
       "      <td>0.698</td>\n",
       "      <td>NaN</td>\n",
       "      <td>NaN</td>\n",
       "      <td>NaN</td>\n",
       "      <td>140.0</td>\n",
       "      <td>NaN</td>\n",
       "      <td>NaN</td>\n",
       "      <td>NaN</td>\n",
       "      <td>192.0</td>\n",
       "      <td>438.0</td>\n",
       "    </tr>\n",
       "    <tr>\n",
       "      <th>3</th>\n",
       "      <td>3.0</td>\n",
       "      <td>1950.0</td>\n",
       "      <td>Ed Bartels</td>\n",
       "      <td>F</td>\n",
       "      <td>24.0</td>\n",
       "      <td>TOT</td>\n",
       "      <td>15.0</td>\n",
       "      <td>NaN</td>\n",
       "      <td>NaN</td>\n",
       "      <td>NaN</td>\n",
       "      <td>...</td>\n",
       "      <td>0.559</td>\n",
       "      <td>NaN</td>\n",
       "      <td>NaN</td>\n",
       "      <td>NaN</td>\n",
       "      <td>20.0</td>\n",
       "      <td>NaN</td>\n",
       "      <td>NaN</td>\n",
       "      <td>NaN</td>\n",
       "      <td>29.0</td>\n",
       "      <td>63.0</td>\n",
       "    </tr>\n",
       "    <tr>\n",
       "      <th>4</th>\n",
       "      <td>4.0</td>\n",
       "      <td>1950.0</td>\n",
       "      <td>Ed Bartels</td>\n",
       "      <td>F</td>\n",
       "      <td>24.0</td>\n",
       "      <td>DNN</td>\n",
       "      <td>13.0</td>\n",
       "      <td>NaN</td>\n",
       "      <td>NaN</td>\n",
       "      <td>NaN</td>\n",
       "      <td>...</td>\n",
       "      <td>0.548</td>\n",
       "      <td>NaN</td>\n",
       "      <td>NaN</td>\n",
       "      <td>NaN</td>\n",
       "      <td>20.0</td>\n",
       "      <td>NaN</td>\n",
       "      <td>NaN</td>\n",
       "      <td>NaN</td>\n",
       "      <td>27.0</td>\n",
       "      <td>59.0</td>\n",
       "    </tr>\n",
       "  </tbody>\n",
       "</table>\n",
       "<p>5 rows × 53 columns</p>\n",
       "</div>"
      ],
      "text/plain": [
       "    X1    Year           Player  Pos   Age   Tm     G  GS  MP  PER  ...  \\\n",
       "0  0.0  1950.0  Curly Armstrong  G-F  31.0  FTW  63.0 NaN NaN  NaN  ...   \n",
       "1  1.0  1950.0     Cliff Barker   SG  29.0  INO  49.0 NaN NaN  NaN  ...   \n",
       "2  2.0  1950.0    Leo Barnhorst   SF  25.0  CHS  67.0 NaN NaN  NaN  ...   \n",
       "3  3.0  1950.0       Ed Bartels    F  24.0  TOT  15.0 NaN NaN  NaN  ...   \n",
       "4  4.0  1950.0       Ed Bartels    F  24.0  DNN  13.0 NaN NaN  NaN  ...   \n",
       "\n",
       "     FT%  ORB  DRB  TRB    AST  STL  BLK  TOV     PF    PTS  \n",
       "0  0.705  NaN  NaN  NaN  176.0  NaN  NaN  NaN  217.0  458.0  \n",
       "1  0.708  NaN  NaN  NaN  109.0  NaN  NaN  NaN   99.0  279.0  \n",
       "2  0.698  NaN  NaN  NaN  140.0  NaN  NaN  NaN  192.0  438.0  \n",
       "3  0.559  NaN  NaN  NaN   20.0  NaN  NaN  NaN   29.0   63.0  \n",
       "4  0.548  NaN  NaN  NaN   20.0  NaN  NaN  NaN   27.0   59.0  \n",
       "\n",
       "[5 rows x 53 columns]"
      ]
     },
     "execution_count": 17,
     "metadata": {},
     "output_type": "execute_result"
    }
   ],
   "source": [
    "df_nba_sqlalchemy = pd.read_sql_query(\"SELECT * from Seasons_Stats\",connection)\n",
    "df_nba_sqlalchemy.head()"
   ]
  },
  {
   "cell_type": "code",
   "execution_count": 18,
   "metadata": {},
   "outputs": [
    {
     "data": {
      "application/vnd.microsoft.datawrangler.viewer.v0+json": {
       "columns": [
        {
         "name": "index",
         "rawType": "int64",
         "type": "integer"
        },
        {
         "name": "X1",
         "rawType": "float64",
         "type": "float"
        },
        {
         "name": "Year",
         "rawType": "float64",
         "type": "float"
        },
        {
         "name": "Player",
         "rawType": "object",
         "type": "string"
        },
        {
         "name": "Pos",
         "rawType": "object",
         "type": "string"
        },
        {
         "name": "Age",
         "rawType": "float64",
         "type": "float"
        },
        {
         "name": "Tm",
         "rawType": "object",
         "type": "string"
        },
        {
         "name": "G",
         "rawType": "float64",
         "type": "float"
        },
        {
         "name": "GS",
         "rawType": "object",
         "type": "unknown"
        },
        {
         "name": "MP",
         "rawType": "object",
         "type": "unknown"
        },
        {
         "name": "PER",
         "rawType": "object",
         "type": "unknown"
        },
        {
         "name": "TS%",
         "rawType": "float64",
         "type": "float"
        },
        {
         "name": "3PAr",
         "rawType": "object",
         "type": "unknown"
        },
        {
         "name": "FTr",
         "rawType": "float64",
         "type": "float"
        },
        {
         "name": "ORB%",
         "rawType": "object",
         "type": "unknown"
        },
        {
         "name": "DRB%",
         "rawType": "object",
         "type": "unknown"
        },
        {
         "name": "TRB%",
         "rawType": "object",
         "type": "unknown"
        },
        {
         "name": "AST%",
         "rawType": "object",
         "type": "unknown"
        },
        {
         "name": "STL%",
         "rawType": "object",
         "type": "unknown"
        },
        {
         "name": "BLK%",
         "rawType": "object",
         "type": "unknown"
        },
        {
         "name": "TOV%",
         "rawType": "object",
         "type": "unknown"
        },
        {
         "name": "USG%",
         "rawType": "object",
         "type": "unknown"
        },
        {
         "name": "blanl",
         "rawType": "object",
         "type": "unknown"
        },
        {
         "name": "OWS",
         "rawType": "float64",
         "type": "float"
        },
        {
         "name": "DWS",
         "rawType": "float64",
         "type": "float"
        },
        {
         "name": "WS",
         "rawType": "float64",
         "type": "float"
        },
        {
         "name": "WS/48",
         "rawType": "object",
         "type": "unknown"
        },
        {
         "name": "blank2",
         "rawType": "object",
         "type": "unknown"
        },
        {
         "name": "OBPM",
         "rawType": "object",
         "type": "unknown"
        },
        {
         "name": "DBPM",
         "rawType": "object",
         "type": "unknown"
        },
        {
         "name": "BPM",
         "rawType": "object",
         "type": "unknown"
        },
        {
         "name": "VORP",
         "rawType": "object",
         "type": "unknown"
        },
        {
         "name": "FG",
         "rawType": "float64",
         "type": "float"
        },
        {
         "name": "FGA",
         "rawType": "float64",
         "type": "float"
        },
        {
         "name": "FG%",
         "rawType": "float64",
         "type": "float"
        },
        {
         "name": "3P",
         "rawType": "object",
         "type": "unknown"
        },
        {
         "name": "3PA",
         "rawType": "object",
         "type": "unknown"
        },
        {
         "name": "3P%",
         "rawType": "object",
         "type": "unknown"
        },
        {
         "name": "2P",
         "rawType": "float64",
         "type": "float"
        },
        {
         "name": "2PA",
         "rawType": "float64",
         "type": "float"
        },
        {
         "name": "2P%",
         "rawType": "float64",
         "type": "float"
        },
        {
         "name": "eFG%",
         "rawType": "float64",
         "type": "float"
        },
        {
         "name": "FT",
         "rawType": "float64",
         "type": "float"
        },
        {
         "name": "FTA",
         "rawType": "float64",
         "type": "float"
        },
        {
         "name": "FT%",
         "rawType": "float64",
         "type": "float"
        },
        {
         "name": "ORB",
         "rawType": "object",
         "type": "unknown"
        },
        {
         "name": "DRB",
         "rawType": "object",
         "type": "unknown"
        },
        {
         "name": "TRB",
         "rawType": "float64",
         "type": "float"
        },
        {
         "name": "AST",
         "rawType": "float64",
         "type": "float"
        },
        {
         "name": "STL",
         "rawType": "object",
         "type": "unknown"
        },
        {
         "name": "BLK",
         "rawType": "object",
         "type": "unknown"
        },
        {
         "name": "TOV",
         "rawType": "object",
         "type": "unknown"
        },
        {
         "name": "PF",
         "rawType": "float64",
         "type": "float"
        },
        {
         "name": "PTS",
         "rawType": "float64",
         "type": "float"
        }
       ],
       "conversionMethod": "pd.DataFrame",
       "ref": "430b449a-ae06-4847-9b9d-0cbb6dead84e",
       "rows": [
        [
         "0",
         "0.0",
         "1950.0",
         "Curly Armstrong",
         "G-F",
         "31.0",
         "FTW",
         "63.0",
         null,
         null,
         null,
         "0.368",
         null,
         "0.467",
         null,
         null,
         null,
         null,
         null,
         null,
         null,
         null,
         null,
         "-0.1",
         "3.6",
         "3.5",
         null,
         null,
         null,
         null,
         null,
         null,
         "144.0",
         "516.0",
         "0.279",
         null,
         null,
         null,
         "144.0",
         "516.0",
         "0.279",
         "0.279",
         "170.0",
         "241.0",
         "0.705",
         null,
         null,
         null,
         "176.0",
         null,
         null,
         null,
         "217.0",
         "458.0"
        ],
        [
         "1",
         "314.0",
         "1951.0",
         "Curly Armstrong",
         "G-F",
         "32.0",
         "FTW",
         "38.0",
         null,
         null,
         null,
         "0.372",
         null,
         "0.388",
         null,
         null,
         null,
         null,
         null,
         null,
         null,
         null,
         null,
         "-0.3",
         "0.9",
         "0.6",
         null,
         null,
         null,
         null,
         null,
         null,
         "72.0",
         "232.0",
         "0.31",
         null,
         null,
         null,
         "72.0",
         "232.0",
         "0.31",
         "0.31",
         "58.0",
         "90.0",
         "0.644",
         null,
         null,
         "89.0",
         "77.0",
         null,
         null,
         null,
         "97.0",
         "202.0"
        ]
       ],
       "shape": {
        "columns": 53,
        "rows": 2
       }
      },
      "text/html": [
       "<div>\n",
       "<style scoped>\n",
       "    .dataframe tbody tr th:only-of-type {\n",
       "        vertical-align: middle;\n",
       "    }\n",
       "\n",
       "    .dataframe tbody tr th {\n",
       "        vertical-align: top;\n",
       "    }\n",
       "\n",
       "    .dataframe thead th {\n",
       "        text-align: right;\n",
       "    }\n",
       "</style>\n",
       "<table border=\"1\" class=\"dataframe\">\n",
       "  <thead>\n",
       "    <tr style=\"text-align: right;\">\n",
       "      <th></th>\n",
       "      <th>X1</th>\n",
       "      <th>Year</th>\n",
       "      <th>Player</th>\n",
       "      <th>Pos</th>\n",
       "      <th>Age</th>\n",
       "      <th>Tm</th>\n",
       "      <th>G</th>\n",
       "      <th>GS</th>\n",
       "      <th>MP</th>\n",
       "      <th>PER</th>\n",
       "      <th>...</th>\n",
       "      <th>FT%</th>\n",
       "      <th>ORB</th>\n",
       "      <th>DRB</th>\n",
       "      <th>TRB</th>\n",
       "      <th>AST</th>\n",
       "      <th>STL</th>\n",
       "      <th>BLK</th>\n",
       "      <th>TOV</th>\n",
       "      <th>PF</th>\n",
       "      <th>PTS</th>\n",
       "    </tr>\n",
       "  </thead>\n",
       "  <tbody>\n",
       "    <tr>\n",
       "      <th>0</th>\n",
       "      <td>0.0</td>\n",
       "      <td>1950.0</td>\n",
       "      <td>Curly Armstrong</td>\n",
       "      <td>G-F</td>\n",
       "      <td>31.0</td>\n",
       "      <td>FTW</td>\n",
       "      <td>63.0</td>\n",
       "      <td>None</td>\n",
       "      <td>None</td>\n",
       "      <td>None</td>\n",
       "      <td>...</td>\n",
       "      <td>0.705</td>\n",
       "      <td>None</td>\n",
       "      <td>None</td>\n",
       "      <td>NaN</td>\n",
       "      <td>176.0</td>\n",
       "      <td>None</td>\n",
       "      <td>None</td>\n",
       "      <td>None</td>\n",
       "      <td>217.0</td>\n",
       "      <td>458.0</td>\n",
       "    </tr>\n",
       "    <tr>\n",
       "      <th>1</th>\n",
       "      <td>314.0</td>\n",
       "      <td>1951.0</td>\n",
       "      <td>Curly Armstrong</td>\n",
       "      <td>G-F</td>\n",
       "      <td>32.0</td>\n",
       "      <td>FTW</td>\n",
       "      <td>38.0</td>\n",
       "      <td>None</td>\n",
       "      <td>None</td>\n",
       "      <td>None</td>\n",
       "      <td>...</td>\n",
       "      <td>0.644</td>\n",
       "      <td>None</td>\n",
       "      <td>None</td>\n",
       "      <td>89.0</td>\n",
       "      <td>77.0</td>\n",
       "      <td>None</td>\n",
       "      <td>None</td>\n",
       "      <td>None</td>\n",
       "      <td>97.0</td>\n",
       "      <td>202.0</td>\n",
       "    </tr>\n",
       "  </tbody>\n",
       "</table>\n",
       "<p>2 rows × 53 columns</p>\n",
       "</div>"
      ],
      "text/plain": [
       "      X1    Year           Player  Pos   Age   Tm     G    GS    MP   PER  \\\n",
       "0    0.0  1950.0  Curly Armstrong  G-F  31.0  FTW  63.0  None  None  None   \n",
       "1  314.0  1951.0  Curly Armstrong  G-F  32.0  FTW  38.0  None  None  None   \n",
       "\n",
       "   ...    FT%   ORB   DRB   TRB    AST   STL   BLK   TOV     PF    PTS  \n",
       "0  ...  0.705  None  None   NaN  176.0  None  None  None  217.0  458.0  \n",
       "1  ...  0.644  None  None  89.0   77.0  None  None  None   97.0  202.0  \n",
       "\n",
       "[2 rows x 53 columns]"
      ]
     },
     "execution_count": 18,
     "metadata": {},
     "output_type": "execute_result"
    }
   ],
   "source": [
    "df_Curly = pd.read_sql_query(\"SELECT * from Seasons_Stats where Player = 'Curly Armstrong'\",connection)\n",
    "df_Curly.head()"
   ]
  },
  {
   "cell_type": "code",
   "execution_count": 19,
   "metadata": {},
   "outputs": [
    {
     "data": {
      "text/plain": [
       "np.float64(510.1163499025341)"
      ]
     },
     "execution_count": 19,
     "metadata": {},
     "output_type": "execute_result"
    }
   ],
   "source": [
    "prom_PTS = df_nba_sqlalchemy['PTS'].mean() \n",
    "prom_PTS"
   ]
  },
  {
   "cell_type": "code",
   "execution_count": 20,
   "metadata": {},
   "outputs": [],
   "source": [
    "connection.close()"
   ]
  }
 ],
 "metadata": {
  "kernelspec": {
   "display_name": ".venv",
   "language": "python",
   "name": "python3"
  },
  "language_info": {
   "codemirror_mode": {
    "name": "ipython",
    "version": 3
   },
   "file_extension": ".py",
   "mimetype": "text/x-python",
   "name": "python",
   "nbconvert_exporter": "python",
   "pygments_lexer": "ipython3",
   "version": "3.12.7"
  }
 },
 "nbformat": 4,
 "nbformat_minor": 2
}
